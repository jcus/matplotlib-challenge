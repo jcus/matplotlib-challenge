{
 "cells": [
  {
   "cell_type": "markdown",
   "metadata": {},
   "source": [
    "## Observations and Insights "
   ]
  },
  {
   "cell_type": "markdown",
   "metadata": {},
   "source": []
  },
  {
   "cell_type": "code",
   "execution_count": 1,
   "metadata": {},
   "outputs": [
    {
     "data": {
      "text/html": [
       "<div>\n",
       "<style scoped>\n",
       "    .dataframe tbody tr th:only-of-type {\n",
       "        vertical-align: middle;\n",
       "    }\n",
       "\n",
       "    .dataframe tbody tr th {\n",
       "        vertical-align: top;\n",
       "    }\n",
       "\n",
       "    .dataframe thead th {\n",
       "        text-align: right;\n",
       "    }\n",
       "</style>\n",
       "<table border=\"1\" class=\"dataframe\">\n",
       "  <thead>\n",
       "    <tr style=\"text-align: right;\">\n",
       "      <th></th>\n",
       "      <th>Mouse ID</th>\n",
       "      <th>Timepoint</th>\n",
       "      <th>Tumor Volume (mm3)</th>\n",
       "      <th>Metastatic Sites</th>\n",
       "      <th>Drug Regimen</th>\n",
       "      <th>Sex</th>\n",
       "      <th>Age_months</th>\n",
       "      <th>Weight (g)</th>\n",
       "    </tr>\n",
       "  </thead>\n",
       "  <tbody>\n",
       "    <tr>\n",
       "      <th>0</th>\n",
       "      <td>b128</td>\n",
       "      <td>0</td>\n",
       "      <td>45.0</td>\n",
       "      <td>0</td>\n",
       "      <td>Capomulin</td>\n",
       "      <td>Female</td>\n",
       "      <td>9</td>\n",
       "      <td>22</td>\n",
       "    </tr>\n",
       "    <tr>\n",
       "      <th>1</th>\n",
       "      <td>f932</td>\n",
       "      <td>0</td>\n",
       "      <td>45.0</td>\n",
       "      <td>0</td>\n",
       "      <td>Ketapril</td>\n",
       "      <td>Male</td>\n",
       "      <td>15</td>\n",
       "      <td>29</td>\n",
       "    </tr>\n",
       "    <tr>\n",
       "      <th>2</th>\n",
       "      <td>g107</td>\n",
       "      <td>0</td>\n",
       "      <td>45.0</td>\n",
       "      <td>0</td>\n",
       "      <td>Ketapril</td>\n",
       "      <td>Female</td>\n",
       "      <td>2</td>\n",
       "      <td>29</td>\n",
       "    </tr>\n",
       "    <tr>\n",
       "      <th>3</th>\n",
       "      <td>a457</td>\n",
       "      <td>0</td>\n",
       "      <td>45.0</td>\n",
       "      <td>0</td>\n",
       "      <td>Ketapril</td>\n",
       "      <td>Female</td>\n",
       "      <td>11</td>\n",
       "      <td>30</td>\n",
       "    </tr>\n",
       "    <tr>\n",
       "      <th>4</th>\n",
       "      <td>c819</td>\n",
       "      <td>0</td>\n",
       "      <td>45.0</td>\n",
       "      <td>0</td>\n",
       "      <td>Ketapril</td>\n",
       "      <td>Male</td>\n",
       "      <td>21</td>\n",
       "      <td>25</td>\n",
       "    </tr>\n",
       "  </tbody>\n",
       "</table>\n",
       "</div>"
      ],
      "text/plain": [
       "  Mouse ID  Timepoint  Tumor Volume (mm3)  Metastatic Sites Drug Regimen  \\\n",
       "0     b128          0                45.0                 0    Capomulin   \n",
       "1     f932          0                45.0                 0     Ketapril   \n",
       "2     g107          0                45.0                 0     Ketapril   \n",
       "3     a457          0                45.0                 0     Ketapril   \n",
       "4     c819          0                45.0                 0     Ketapril   \n",
       "\n",
       "      Sex  Age_months  Weight (g)  \n",
       "0  Female           9          22  \n",
       "1    Male          15          29  \n",
       "2  Female           2          29  \n",
       "3  Female          11          30  \n",
       "4    Male          21          25  "
      ]
     },
     "execution_count": 1,
     "metadata": {},
     "output_type": "execute_result"
    }
   ],
   "source": [
    "# Dependencies and Setup\n",
    "import matplotlib.pyplot as plt\n",
    "import pandas as pd\n",
    "import scipy.stats as st\n",
    "import numpy as np\n",
    "from scipy.stats import linregress\n",
    "\n",
    "# Study data files\n",
    "mouse_metadata_path = \"data/Mouse_metadata.csv\"\n",
    "study_results_path = \"data/Study_results.csv\"\n",
    "\n",
    "# Read the mouse data and the study results\n",
    "mouse_metadata = pd.read_csv(mouse_metadata_path)\n",
    "study_results = pd.read_csv(study_results_path)\n",
    "\n",
    "# Combine the data into a single dataset\n",
    "study_data_complete = pd.merge(study_results, mouse_metadata, how=\"left\", on=\"Mouse ID\")\n",
    "\n",
    "# Display the data table for preview\n",
    "study_data_complete.head()"
   ]
  },
  {
   "cell_type": "code",
   "execution_count": 6,
   "metadata": {},
   "outputs": [
    {
     "name": "stdout",
     "output_type": "stream",
     "text": [
      "1893 249 1893 249\n",
      "Number of mice: 249\n"
     ]
    }
   ],
   "source": [
    "# Checking the number of mice.\n",
    "numMice = len(study_data_complete)\n",
    "numMice1 = len(mouse_metadata)\n",
    "numMice2 = len(study_results)\n",
    "numMice3 = len(study_data_complete[\"Mouse ID\"].unique()) \n",
    "print(numMice, numMice1, numMice2, numMice3)\n",
    "print(\"Number of mice: \"+ str(numMice3))"
   ]
  },
  {
   "cell_type": "code",
   "execution_count": 11,
   "metadata": {},
   "outputs": [
    {
     "data": {
      "text/plain": [
       "g989    13\n",
       "l733    10\n",
       "a411    10\n",
       "j296    10\n",
       "l897    10\n",
       "Name: Mouse ID, dtype: int64"
      ]
     },
     "execution_count": 11,
     "metadata": {},
     "output_type": "execute_result"
    }
   ],
   "source": [
    "# Getting the duplicate mice by ID number that shows up for Mouse ID and Timepoint.\n",
    "duplMice = study_data_complete[\"Mouse ID\"].value_counts()\n",
    "duplMice.head()"
   ]
  },
  {
   "cell_type": "code",
   "execution_count": 29,
   "metadata": {},
   "outputs": [
    {
     "name": "stdout",
     "output_type": "stream",
     "text": [
      "dict_keys(['b128', 'f932', 'g107', 'a457', 'c819', 'h246', 'p189', 'n923', 'q119', 'f993', 'z234', 'b559', 'y260', 'x930', 'o725', 'z969', 'v835', 'r604', 'n304', 'l700', 'x336', 'l725', 'm133', 'v295', 'a818', 'y601', 't724', 'k382', 'w422', 'c326', 'c139', 'v339', 'a577', 'y163', 'k483', 'k804', 'o809', 'z581', 'a251', 'i386', 'c580', 'q132', 'u327', 'v603', 'f278', 'g497', 'd474', 'o973', 'c832', 'o331', 'm650', 'v289', 'm550', 'h428', 'r701', 'v199', 'x264', 'f234', 'c458', 'q610', 'j913', 'a411', 'a444', 'd251', 'j989', 'y449', 'k403', 'c758', 'x402', 'r811', 'a644', 'i177', 'g791', 'a520', 'u196', 'm546', 'w678', 'n364', 's508', 'e662', 'z578', 'r921', 'a492', 'w540', 'v764', 'z795', 'e291', 'e584', 'e213', 'j755', 's565', 'a366', 'p387', 'b879', 'i901', 'k862', 'g867', 's619', 'w697', 'j984', 'c402', 'h333', 'k510', 'p981', 't451', 'a963', 'm269', 'g989', 'z314', 'o848', 'v719', 'q597', 'c895', 'a203', 'f394', 'c264', 'n967', 'f545', 'k894', 'k754', 'g296', 'd164', 'w575', 'x613', 'q633', 'b313', 'f129', 'j365', 'p136', 'c559', 'a788', 's337', 'q511', 'm331', 'o926', 'd133', 'n630', 'a401', 'w350', 'c302', 'a897', 'j235', 'q787', 'a262', 'r850', 'i669', 'n763', 's152', 'c766', 'e227', 'c282', 'v989', 'w140', 'v409', 'l872', 'o795', 'y478', 'q582', 's166', 'x773', 'w167', 't718', 'o302', 'i477', 'c757', 't994', 'p310', 'a699', 'k603', 'x822', 'l558', 'l733', 'f436', 'l490', 'b759', 'l471', 'y865', 'y769', 'l661', 'j296', 'u149', 'u153', 'w151', 'h531', 'a685', 'o813', 'm756', 'n671', 's121', 'v766', 'w193', 'e476', 'w584', 'b447', 'k210', 'a275', 'x581', 'n482', 't198', 'l215', 's141', 'o523', 'i635', 'w746', 'r107', 's187', 'g570', 'x209', 'x111', 'z435', 'n678', 'g558', 'u946', 'o562', 'v991', 'c927', 'x226', 'p438', 'b487', 'o287', 'q483', 't573', 'f345', 'i334', 'l264', 'j246', 'r554', 's185', 'b742', 'x401', 'l509', 's710', 'r157', 'u364', 'j119', 'v923', 'w914', 'i738', 'r944', 'y793', 'g316', 'g288', 'l897', 'w150', 't565', 'i557', 'm957', 'f966', 'm601'])\n"
     ]
    }
   ],
   "source": [
    "# Optional: Get all the data for the duplicate mouse ID. \n",
    "# use collections.Counter reduce repeat call to count, get items(ketys : value) in Counter\n",
    "from collections import Counter\n",
    "duplMice = study_data_complete[\"Mouse ID\"]\n",
    "d = Counter(map(tuple, duplMice))\n",
    "#print(Counter(duplMice))\n",
    "\n",
    "# get the duplicate keys - Mouse ID\n",
    "dups = [k for k, v in d.items() if v>1]\n",
    "print(Counter(duplMice).keys())\n",
    "# print(d.keys()) =>dict_keys([('b', '1', '2', '8'), ('f', '9', '3', '2')...?\n",
    "\n",
    "\n",
    "# set the index to the mouse ID\n",
    "\n",
    "# check the mouse data for ID\n"
   ]
  },
  {
   "cell_type": "code",
   "execution_count": null,
   "metadata": {},
   "outputs": [],
   "source": [
    "# Create a clean DataFrame by dropping the duplicate mouse by its ID.\n"
   ]
  },
  {
   "cell_type": "code",
   "execution_count": null,
   "metadata": {},
   "outputs": [],
   "source": [
    "# Checking the number of mice in the clean DataFrame.\n"
   ]
  },
  {
   "cell_type": "markdown",
   "metadata": {},
   "source": [
    "## Summary Statistics"
   ]
  },
  {
   "cell_type": "code",
   "execution_count": null,
   "metadata": {},
   "outputs": [],
   "source": [
    "# Generate a summary statistics table of mean, median, variance, standard deviation, and SEM of the tumor volume for each regimen\n",
    "\n",
    "# Use groupby and summary statistical methods to calculate the following properties of each drug regimen: \n",
    "# mean, median, variance, standard deviation, and SEM of the tumor volume. \n",
    "# Assemble the resulting series into a single summary dataframe.\n",
    "\n",
    "# series variable to hold Tumor Volume Data grouped by Drug Regimen\n",
    "\n",
    "# variable to hold the Mean Tumor Volume Data Grouped by Drug Regimen\n",
    "\n",
    "\n",
    "# variable to hold median Tumor Volume Data Grouped by Drug Regimen\n",
    "\n",
    "\n",
    "# variable to hold the Tumor Volume Variance Data Grouped by Drug Regimen\n",
    "\n",
    "\n",
    "# variable to hold the Tumor Volume Standard Deviation Data Grouped by Drug Regimen\n",
    "\n",
    "\n",
    "# variable to hold the Tumor Volume SEM Data Grouped by Drug Regimen\n",
    "\n",
    "\n",
    "# Convert to DataFrame\n",
    "\n",
    "# Preview DataFrame\n"
   ]
  },
  {
   "cell_type": "code",
   "execution_count": null,
   "metadata": {},
   "outputs": [],
   "source": [
    "# Generate a summary statistics table of mean, median, variance, standard deviation, and SEM of the tumor volume for each regimen\n",
    "\n",
    "# Using the aggregation method, produce the same summary statistics in a single line\n"
   ]
  },
  {
   "cell_type": "markdown",
   "metadata": {},
   "source": [
    "## Bar and Pie Charts"
   ]
  },
  {
   "cell_type": "code",
   "execution_count": null,
   "metadata": {},
   "outputs": [],
   "source": [
    "# Generate a bar plot showing the total number of measurements taken on each drug regimen using pandas.\n",
    "\n",
    "# list of unique drug regimens\n",
    "\n",
    "# drug regimen as x-axis values for plotting\n",
    "\n",
    "# drop all duplicate mice\n",
    "\n",
    "\n",
    "# get mice counts per drug\n"
   ]
  },
  {
   "cell_type": "code",
   "execution_count": null,
   "metadata": {},
   "outputs": [],
   "source": [
    "# plot the mouse counts for each drug using pandas\n"
   ]
  },
  {
   "cell_type": "code",
   "execution_count": null,
   "metadata": {},
   "outputs": [],
   "source": [
    "# Generate a bar plot showing the total number of measurements taken on each drug regimen using pyplot.\n",
    "# plot the bar graph of mice count per drug regimen\n"
   ]
  },
  {
   "cell_type": "code",
   "execution_count": null,
   "metadata": {},
   "outputs": [],
   "source": [
    "# Generate a pie plot showing the distribution of female versus male mice using pandas\n"
   ]
  },
  {
   "cell_type": "code",
   "execution_count": null,
   "metadata": {},
   "outputs": [],
   "source": [
    "# Generate a pie plot showing the distribution of female versus male mice using pyplot\n"
   ]
  },
  {
   "cell_type": "markdown",
   "metadata": {},
   "source": [
    "## Quartiles, Outliers and Boxplots"
   ]
  },
  {
   "cell_type": "code",
   "execution_count": null,
   "metadata": {},
   "outputs": [],
   "source": [
    "# Calculate the final tumor volume of each mouse across four of the treatment regimens:  \n",
    "# Capomulin, Ramicane, Infubinol, and Ceftamin\n",
    "\n",
    "# set drug regimen as index and drop associated regimens while only keeping Capomulin, Ramicane, Infubinol, and Ceftamin\n",
    "\n",
    "\n",
    "# isolated view of just capomulin for later use\n",
    "\n",
    "\n",
    "# Reset index so drug regimen column persists after inner merge\n",
    "\n",
    "\n",
    "# get mouse count per drug\n",
    "\n",
    "\n",
    "# Start by getting the last (greatest) timepoint for each mouse\n"
   ]
  },
  {
   "cell_type": "code",
   "execution_count": null,
   "metadata": {},
   "outputs": [],
   "source": [
    "# Merge this group df with the original dataframe to get the tumor volume at the last timepoint\n",
    "\n",
    "# show all rows of data\n"
   ]
  },
  {
   "cell_type": "code",
   "execution_count": null,
   "metadata": {},
   "outputs": [],
   "source": [
    "# Put treatments into a list for for loop (and later for plot labels)\n",
    "#set drugs to be analyzed, colors for the plots, and markers\n",
    "\n",
    "\n",
    "# Create empty list to fill with tumor vol data (for plotting)\n",
    "\n",
    "\n",
    "# Calculate the IQR and quantitatively determine if there are any potential outliers. \n",
    "\n",
    "    \n",
    "# Locate the rows which contain mice on each drug and get the tumor volumes\n",
    " "
   ]
  },
  {
   "cell_type": "code",
   "execution_count": null,
   "metadata": {},
   "outputs": [],
   "source": [
    "# Determine outliers using upper and lower bounds\n"
   ]
  },
  {
   "cell_type": "code",
   "execution_count": null,
   "metadata": {},
   "outputs": [],
   "source": [
    "# add subset \n",
    "\n",
    "\n",
    "# tumor volumes for each Drug Regimen\n"
   ]
  },
  {
   "cell_type": "code",
   "execution_count": null,
   "metadata": {},
   "outputs": [],
   "source": [
    "# Generate a box plot of the final tumor volume of each mouse across four regimens of interest\n",
    "\n",
    "\n"
   ]
  },
  {
   "cell_type": "markdown",
   "metadata": {},
   "source": [
    "## Line and Scatter Plots"
   ]
  },
  {
   "cell_type": "code",
   "execution_count": null,
   "metadata": {},
   "outputs": [],
   "source": [
    "# Generate a line plot of tumor volume vs. time point for a mouse treated with Capomulin\n",
    "\n",
    "#change index to mouse ID \n",
    "\n",
    "#remove other mouse IDs so only s185 shows\n",
    "\n",
    "\n",
    "#set the x-axis equal to the Timepoint and y-axis to Tumor Volume\n"
   ]
  },
  {
   "cell_type": "code",
   "execution_count": null,
   "metadata": {},
   "outputs": [],
   "source": [
    "# Generate a scatter plot of average tumor volume vs. mouse weight for the Capomulin regimen\n",
    "# group by mouse ID to find average tumor volume\n",
    "\n",
    "\n",
    "# establish x-axis value for the weight of the mice\n",
    "\n",
    "\n",
    "# produce scatter plot of the data\n"
   ]
  },
  {
   "cell_type": "markdown",
   "metadata": {},
   "source": [
    "## Correlation and Regression"
   ]
  },
  {
   "cell_type": "code",
   "execution_count": null,
   "metadata": {},
   "outputs": [],
   "source": [
    "# Calculate the correlation coefficient and linear regression model \n",
    "# for mouse weight and average tumor volume for the Capomulin regimen\n",
    "#establish x and y values and find St. Pearson Correlation Coefficient for Mouse Weight and Tumor Volume Avg\n",
    "\n",
    "\n",
    "#print St. Pearson Correlation Coefficient\n",
    "\n",
    "# establish linear regression values\n",
    "\n",
    "# linear regression line \n",
    "\n",
    "\n",
    "# scatter plot of the data\n"
   ]
  },
  {
   "cell_type": "code",
   "execution_count": null,
   "metadata": {},
   "outputs": [],
   "source": []
  }
 ],
 "metadata": {
  "anaconda-cloud": {},
  "kernelspec": {
   "display_name": "Python 3",
   "language": "python",
   "name": "python3"
  },
  "language_info": {
   "codemirror_mode": {
    "name": "ipython",
    "version": 3
   },
   "file_extension": ".py",
   "mimetype": "text/x-python",
   "name": "python",
   "nbconvert_exporter": "python",
   "pygments_lexer": "ipython3",
   "version": "3.8.8"
  }
 },
 "nbformat": 4,
 "nbformat_minor": 4
}
